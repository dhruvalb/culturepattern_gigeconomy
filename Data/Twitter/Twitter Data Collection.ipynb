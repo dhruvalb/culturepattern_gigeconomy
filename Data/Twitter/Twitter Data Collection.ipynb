{
 "cells": [
  {
   "cell_type": "markdown",
   "metadata": {},
   "source": [
    "# Collecting Data from Twitter on Gig Economy\n",
    "\n",
    "Author: Dhruval Bhatt\n",
    "\n",
    "Reference Used: \n",
    "https://www.toptal.com/python/twitter-data-mining-using-python\n",
    "https://www.earthdatascience.org/courses/earth-analytics-python/using-apis-natural-language-processing-twitter/get-and-use-twitter-data-in-python/\n",
    "\n"
   ]
  },
  {
   "cell_type": "code",
   "execution_count": 1,
   "metadata": {},
   "outputs": [],
   "source": [
    "import os\n",
    "import tweepy as tw\n",
    "import pandas as pd"
   ]
  },
  {
   "cell_type": "code",
   "execution_count": 2,
   "metadata": {},
   "outputs": [],
   "source": [
    "consumer_key = 'qLcx38JpogKSHVWhWYJKqb554'\n",
    "consumer_secret = '3sAVJet3sVrkex1g8BDOKwFplFk8a7edep6Cr5t1N8z6RMIm2q'\n",
    "access_token = '192331464-zUhu0yAUnbKQSol6mSGZHfykv0yXHmB4cgwEgKiw'\n",
    "access_token_secret = '9wRCfWcT3XgYoclLKpMKMJzCPZV0wItgJOaHQegJe9XlE'\n"
   ]
  },
  {
   "cell_type": "code",
   "execution_count": 3,
   "metadata": {},
   "outputs": [],
   "source": [
    "auth = tw.OAuthHandler(consumer_key, consumer_secret)\n",
    "auth.set_access_token(access_token, access_token_secret)\n",
    "api = tw.API(auth, wait_on_rate_limit=True)"
   ]
  },
  {
   "cell_type": "code",
   "execution_count": 4,
   "metadata": {},
   "outputs": [],
   "source": [
    "# Define the search term and the date_since date as variables\n",
    "# Date Since will depend on my access level and what Twitter allows me to get as \"current data\"\n",
    "search_words = \"#gigeconomy\"\n",
    "date_since = \"2019-12-1\""
   ]
  },
  {
   "cell_type": "code",
   "execution_count": 5,
   "metadata": {},
   "outputs": [],
   "source": [
    "# Collect tweets\n",
    "tweets = tw.Cursor(api.search,\n",
    "              q=search_words,\n",
    "              lang=\"en\",\n",
    "              since=date_since).items(50000)"
   ]
  },
  {
   "cell_type": "code",
   "execution_count": 6,
   "metadata": {},
   "outputs": [],
   "source": [
    "# Collect a list of tweets\n",
    "text_content = [[tweet.user.screen_name, tweet.user.location, tweet.text, tweet.created_at] for tweet in tweets]\n",
    "\n",
    "#Create Pandas Dataframe\n",
    "tweet_df = pd.DataFrame(data=text_content, \n",
    "                    columns=['user', \"location\", \"tweet text\", \"tweet date\"])"
   ]
  },
  {
   "cell_type": "code",
   "execution_count": 7,
   "metadata": {},
   "outputs": [
    {
     "data": {
      "text/html": [
       "<div>\n",
       "<style scoped>\n",
       "    .dataframe tbody tr th:only-of-type {\n",
       "        vertical-align: middle;\n",
       "    }\n",
       "\n",
       "    .dataframe tbody tr th {\n",
       "        vertical-align: top;\n",
       "    }\n",
       "\n",
       "    .dataframe thead th {\n",
       "        text-align: right;\n",
       "    }\n",
       "</style>\n",
       "<table border=\"1\" class=\"dataframe\">\n",
       "  <thead>\n",
       "    <tr style=\"text-align: right;\">\n",
       "      <th></th>\n",
       "      <th>user</th>\n",
       "      <th>location</th>\n",
       "      <th>tweet text</th>\n",
       "      <th>tweet date</th>\n",
       "    </tr>\n",
       "  </thead>\n",
       "  <tbody>\n",
       "    <tr>\n",
       "      <th>0</th>\n",
       "      <td>eraser</td>\n",
       "      <td>Sevilla</td>\n",
       "      <td>BLOCKCHAIN NOW AND TOMORROW ASSESSING. Multidi...</td>\n",
       "      <td>2019-12-12 01:00:26</td>\n",
       "    </tr>\n",
       "    <tr>\n",
       "      <th>1</th>\n",
       "      <td>RoshaundaDGreen</td>\n",
       "      <td>Atlanta, GA</td>\n",
       "      <td>RT @HRCurator: RT @DVPRMND  @kar_saswat  @hrto...</td>\n",
       "      <td>2019-12-12 00:53:56</td>\n",
       "    </tr>\n",
       "    <tr>\n",
       "      <th>2</th>\n",
       "      <td>CXC_AUS</td>\n",
       "      <td>Australia, The World</td>\n",
       "      <td>10 predictions for the #futureofwork from lead...</td>\n",
       "      <td>2019-12-12 00:36:03</td>\n",
       "    </tr>\n",
       "    <tr>\n",
       "      <th>3</th>\n",
       "      <td>GCUCGLOBAL</td>\n",
       "      <td>Next up a GCUC USA in Seattle</td>\n",
       "      <td>RT @Smallbizlabs: Laws to protect Uber drivers...</td>\n",
       "      <td>2019-12-12 00:33:27</td>\n",
       "    </tr>\n",
       "    <tr>\n",
       "      <th>4</th>\n",
       "      <td>TheBoydCompany</td>\n",
       "      <td>Princeton, NJ</td>\n",
       "      <td>Freelancers just one of several industries up ...</td>\n",
       "      <td>2019-12-12 00:16:32</td>\n",
       "    </tr>\n",
       "  </tbody>\n",
       "</table>\n",
       "</div>"
      ],
      "text/plain": [
       "              user                        location  \\\n",
       "0           eraser                         Sevilla   \n",
       "1  RoshaundaDGreen                     Atlanta, GA   \n",
       "2          CXC_AUS            Australia, The World   \n",
       "3       GCUCGLOBAL  Next up a GCUC USA in Seattle    \n",
       "4   TheBoydCompany                   Princeton, NJ   \n",
       "\n",
       "                                          tweet text          tweet date  \n",
       "0  BLOCKCHAIN NOW AND TOMORROW ASSESSING. Multidi... 2019-12-12 01:00:26  \n",
       "1  RT @HRCurator: RT @DVPRMND  @kar_saswat  @hrto... 2019-12-12 00:53:56  \n",
       "2  10 predictions for the #futureofwork from lead... 2019-12-12 00:36:03  \n",
       "3  RT @Smallbizlabs: Laws to protect Uber drivers... 2019-12-12 00:33:27  \n",
       "4  Freelancers just one of several industries up ... 2019-12-12 00:16:32  "
      ]
     },
     "execution_count": 7,
     "metadata": {},
     "output_type": "execute_result"
    }
   ],
   "source": [
    "tweet_df.head()"
   ]
  },
  {
   "cell_type": "code",
   "execution_count": 8,
   "metadata": {},
   "outputs": [],
   "source": [
    "#save to csv\n",
    "tweet_df.to_csv (r'C:\\Users\\Dhruval\\Documents\\MACSS\\2019_Autumn\\Computation Patterns\\Final Project\\culturepattern_gigeconomy\\Data\\Twitter\\twt50000_12_11.csv', index = None, header=True)"
   ]
  }
 ],
 "metadata": {
  "kernelspec": {
   "display_name": "Python 3",
   "language": "python",
   "name": "python3"
  },
  "language_info": {
   "codemirror_mode": {
    "name": "ipython",
    "version": 3
   },
   "file_extension": ".py",
   "mimetype": "text/x-python",
   "name": "python",
   "nbconvert_exporter": "python",
   "pygments_lexer": "ipython3",
   "version": "3.7.0"
  }
 },
 "nbformat": 4,
 "nbformat_minor": 2
}
