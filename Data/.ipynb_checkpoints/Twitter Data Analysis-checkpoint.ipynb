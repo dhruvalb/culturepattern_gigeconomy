{
 "cells": [
  {
   "cell_type": "code",
   "execution_count": 16,
   "metadata": {},
   "outputs": [],
   "source": [
    "import pandas as pd\n",
    "import numpy as np\n",
    "import glob\n",
    "import re\n",
    "import nltk\n",
    "import matplotlib.pyplot as plt\n",
    "import seaborn as sns\n",
    "import itertools\n",
    "import collections"
   ]
  },
  {
   "cell_type": "code",
   "execution_count": 2,
   "metadata": {},
   "outputs": [],
   "source": [
    "path = r'C:/Users/Dhruval/Documents/MACSS/2019_Autumn/Computation Patterns/Final Project/culturepattern_gigeconomy/Data/Twitter' # use your path\n",
    "all_files = glob.glob(path + \"/*.csv\")\n",
    "\n",
    "li = []\n",
    "\n",
    "for filename in all_files:\n",
    "    df = pd.read_csv(filename, index_col=None, header=0)\n",
    "    li.append(df)\n",
    "\n",
    "data = pd.concat(li, axis=0, ignore_index=True)"
   ]
  },
  {
   "cell_type": "code",
   "execution_count": 3,
   "metadata": {},
   "outputs": [
    {
     "data": {
      "text/plain": [
       "(17118, 4)"
      ]
     },
     "execution_count": 3,
     "metadata": {},
     "output_type": "execute_result"
    }
   ],
   "source": [
    "#How many tweets all together?\n",
    "data.shape"
   ]
  },
  {
   "cell_type": "code",
   "execution_count": 4,
   "metadata": {},
   "outputs": [],
   "source": [
    "def processTweet1(tweet):\n",
    "    tweet = tweet.lower() # convert text to lower-case\n",
    "    tweet = re.sub('((www\\.[^\\s]+)|(https?://[^\\s]+))', '', tweet) # remove URLs\n",
    "    tweet = tweet.strip()\n",
    "    return tweet"
   ]
  },
  {
   "cell_type": "code",
   "execution_count": 5,
   "metadata": {},
   "outputs": [],
   "source": [
    "data['text'] = data['tweet text'].apply(processTweet1)"
   ]
  },
  {
   "cell_type": "code",
   "execution_count": 6,
   "metadata": {},
   "outputs": [
    {
     "data": {
      "text/html": [
       "<div>\n",
       "<style scoped>\n",
       "    .dataframe tbody tr th:only-of-type {\n",
       "        vertical-align: middle;\n",
       "    }\n",
       "\n",
       "    .dataframe tbody tr th {\n",
       "        vertical-align: top;\n",
       "    }\n",
       "\n",
       "    .dataframe thead th {\n",
       "        text-align: right;\n",
       "    }\n",
       "</style>\n",
       "<table border=\"1\" class=\"dataframe\">\n",
       "  <thead>\n",
       "    <tr style=\"text-align: right;\">\n",
       "      <th></th>\n",
       "      <th>user</th>\n",
       "      <th>location</th>\n",
       "      <th>tweet text</th>\n",
       "      <th>tweet date</th>\n",
       "      <th>text</th>\n",
       "    </tr>\n",
       "  </thead>\n",
       "  <tbody>\n",
       "    <tr>\n",
       "      <th>0</th>\n",
       "      <td>jamie_mo</td>\n",
       "      <td>PA</td>\n",
       "      <td>RT @SharksSchatzi: Where are the stores that s...</td>\n",
       "      <td>11/11/2019 3:23</td>\n",
       "      <td>rt @sharksschatzi: where are the stores that s...</td>\n",
       "    </tr>\n",
       "    <tr>\n",
       "      <th>1</th>\n",
       "      <td>AntlerAustralia</td>\n",
       "      <td>Sydney, New South Wales</td>\n",
       "      <td>RT @getupcover: Skye Theodorou, our CEO, unvei...</td>\n",
       "      <td>11/11/2019 2:56</td>\n",
       "      <td>rt @getupcover: skye theodorou, our ceo, unvei...</td>\n",
       "    </tr>\n",
       "    <tr>\n",
       "      <th>2</th>\n",
       "      <td>GusRazzetti</td>\n",
       "      <td>Chicago, IL</td>\n",
       "      <td>The growth of the #gigeconomy is a global tren...</td>\n",
       "      <td>11/11/2019 2:42</td>\n",
       "      <td>the growth of the #gigeconomy is a global tren...</td>\n",
       "    </tr>\n",
       "    <tr>\n",
       "      <th>3</th>\n",
       "      <td>gdprAI</td>\n",
       "      <td>England, United Kingdom</td>\n",
       "      <td>RT @LewisGarrad: How is #AI, globalization, an...</td>\n",
       "      <td>11/11/2019 2:00</td>\n",
       "      <td>rt @lewisgarrad: how is #ai, globalization, an...</td>\n",
       "    </tr>\n",
       "    <tr>\n",
       "      <th>4</th>\n",
       "      <td>LewisGarrad</td>\n",
       "      <td>Singapore</td>\n",
       "      <td>How is #AI, globalization, and the #gigeconomy...</td>\n",
       "      <td>11/11/2019 2:00</td>\n",
       "      <td>how is #ai, globalization, and the #gigeconomy...</td>\n",
       "    </tr>\n",
       "  </tbody>\n",
       "</table>\n",
       "</div>"
      ],
      "text/plain": [
       "              user                 location  \\\n",
       "0         jamie_mo                       PA   \n",
       "1  AntlerAustralia  Sydney, New South Wales   \n",
       "2      GusRazzetti              Chicago, IL   \n",
       "3           gdprAI  England, United Kingdom   \n",
       "4      LewisGarrad                Singapore   \n",
       "\n",
       "                                          tweet text       tweet date  \\\n",
       "0  RT @SharksSchatzi: Where are the stores that s...  11/11/2019 3:23   \n",
       "1  RT @getupcover: Skye Theodorou, our CEO, unvei...  11/11/2019 2:56   \n",
       "2  The growth of the #gigeconomy is a global tren...  11/11/2019 2:42   \n",
       "3  RT @LewisGarrad: How is #AI, globalization, an...  11/11/2019 2:00   \n",
       "4  How is #AI, globalization, and the #gigeconomy...  11/11/2019 2:00   \n",
       "\n",
       "                                                text  \n",
       "0  rt @sharksschatzi: where are the stores that s...  \n",
       "1  rt @getupcover: skye theodorou, our ceo, unvei...  \n",
       "2  the growth of the #gigeconomy is a global tren...  \n",
       "3  rt @lewisgarrad: how is #ai, globalization, an...  \n",
       "4  how is #ai, globalization, and the #gigeconomy...  "
      ]
     },
     "execution_count": 6,
     "metadata": {},
     "output_type": "execute_result"
    }
   ],
   "source": [
    "data.head()"
   ]
  },
  {
   "cell_type": "code",
   "execution_count": 7,
   "metadata": {},
   "outputs": [],
   "source": [
    "#remove duplicate tweets\n",
    "data.drop_duplicates(subset =\"text\", \n",
    "                     keep = 'first', inplace = True)"
   ]
  },
  {
   "cell_type": "code",
   "execution_count": 8,
   "metadata": {},
   "outputs": [
    {
     "data": {
      "text/plain": [
       "(5346, 5)"
      ]
     },
     "execution_count": 8,
     "metadata": {},
     "output_type": "execute_result"
    }
   ],
   "source": [
    "#Final Data Size\n",
    "data.shape"
   ]
  },
  {
   "cell_type": "code",
   "execution_count": null,
   "metadata": {},
   "outputs": [],
   "source": [
    "#Save full dataset to file\n",
    "#data.to_csv(r'C:/Users/Dhruval/Documents/MACSS/2019_Autumn/Computation Patterns/Final Project/culturepattern_gigeconomy/Data/Twitter/full_tweet_df.csv', index=False)"
   ]
  },
  {
   "cell_type": "code",
   "execution_count": 9,
   "metadata": {},
   "outputs": [],
   "source": [
    "from nltk.tokenize import word_tokenize\n",
    "from string import punctuation \n",
    "from nltk.corpus import stopwords\n",
    "\n",
    "stopwords = set(stopwords.words('english') + list(punctuation) + ['AT_USER','URL', 'rt'])\n",
    "\n",
    "def tokenize(tweet):\n",
    "    #tweet = re.sub('@[^\\s]+', 'AT_USER', tweet) # remove usernames\n",
    "    #tweet = re.sub(r'#([^\\s]+)', r'\\1', tweet) # remove the # in #hashtag\n",
    "    tweet = word_tokenize(tweet) # remove repeated characters (helloooooooo into hello)\n",
    "    return [word for word in tweet if word not in stopwords]"
   ]
  },
  {
   "cell_type": "code",
   "execution_count": 10,
   "metadata": {},
   "outputs": [
    {
     "data": {
      "text/plain": [
       "(0.0,\n",
       " TextBlob(\"rt @sharksschatzi: where are the stores that support @instacart shoppers and will openly condemn mistreatment and pay cuts? hmmm? anyone? b…\"))"
      ]
     },
     "execution_count": 10,
     "metadata": {},
     "output_type": "execute_result"
    }
   ],
   "source": [
    "from textblob import TextBlob\n",
    "\n",
    "# Create textblob objects of the tweets\n",
    "sentiment_objects = [TextBlob(tweet) for tweet in data['text']]\n",
    "\n",
    "sentiment_objects[0].polarity, sentiment_objects[0]"
   ]
  },
  {
   "cell_type": "code",
   "execution_count": 12,
   "metadata": {},
   "outputs": [
    {
     "data": {
      "text/html": [
       "<div>\n",
       "<style scoped>\n",
       "    .dataframe tbody tr th:only-of-type {\n",
       "        vertical-align: middle;\n",
       "    }\n",
       "\n",
       "    .dataframe tbody tr th {\n",
       "        vertical-align: top;\n",
       "    }\n",
       "\n",
       "    .dataframe thead th {\n",
       "        text-align: right;\n",
       "    }\n",
       "</style>\n",
       "<table border=\"1\" class=\"dataframe\">\n",
       "  <thead>\n",
       "    <tr style=\"text-align: right;\">\n",
       "      <th></th>\n",
       "      <th>polarity</th>\n",
       "      <th>tweet</th>\n",
       "    </tr>\n",
       "  </thead>\n",
       "  <tbody>\n",
       "    <tr>\n",
       "      <th>0</th>\n",
       "      <td>0.000</td>\n",
       "      <td>rt @sharksschatzi: where are the stores that s...</td>\n",
       "    </tr>\n",
       "    <tr>\n",
       "      <th>1</th>\n",
       "      <td>0.625</td>\n",
       "      <td>rt @getupcover: skye theodorou, our ceo, unvei...</td>\n",
       "    </tr>\n",
       "    <tr>\n",
       "      <th>2</th>\n",
       "      <td>0.000</td>\n",
       "      <td>the growth of the #gigeconomy is a global tren...</td>\n",
       "    </tr>\n",
       "    <tr>\n",
       "      <th>3</th>\n",
       "      <td>0.000</td>\n",
       "      <td>rt @lewisgarrad: how is #ai, globalization, an...</td>\n",
       "    </tr>\n",
       "    <tr>\n",
       "      <th>4</th>\n",
       "      <td>0.000</td>\n",
       "      <td>how is #ai, globalization, and the #gigeconomy...</td>\n",
       "    </tr>\n",
       "  </tbody>\n",
       "</table>\n",
       "</div>"
      ],
      "text/plain": [
       "   polarity                                              tweet\n",
       "0     0.000  rt @sharksschatzi: where are the stores that s...\n",
       "1     0.625  rt @getupcover: skye theodorou, our ceo, unvei...\n",
       "2     0.000  the growth of the #gigeconomy is a global tren...\n",
       "3     0.000  rt @lewisgarrad: how is #ai, globalization, an...\n",
       "4     0.000  how is #ai, globalization, and the #gigeconomy..."
      ]
     },
     "execution_count": 12,
     "metadata": {},
     "output_type": "execute_result"
    }
   ],
   "source": [
    "# Create list of polarity valuesx and tweet text\n",
    "sentiment_values = [[tweet.sentiment.polarity, str(tweet)] for tweet in sentiment_objects]\n",
    "sentiment_df = pd.DataFrame(sentiment_values, columns=[\"polarity\", \"tweet\"])\n",
    "sentiment_df.head()"
   ]
  },
  {
   "cell_type": "code",
   "execution_count": 18,
   "metadata": {},
   "outputs": [
    {
     "data": {
      "image/png": "[encoded data removed]",
      "text/plain": [
       "<Figure size 576x432 with 1 Axes>"
      ]
     },
     "metadata": {
      "needs_background": "light"
     },
     "output_type": "display_data"
    }
   ],
   "source": [
    "# Remove polarity values equal to zero\n",
    "#sentiment_df = sentiment_df[sentiment_df.polarity != 0]\n",
    "fig, ax = plt.subplots(figsize=(8, 6))\n",
    "\n",
    "# Plot histogram with break at zero\n",
    "sentiment_df.hist(bins=[-1, -0.75, -0.5, -0.25, 0.0, 0.25, 0.5, 0.75, 1],\n",
    "             ax=ax,\n",
    "             color=\"purple\")\n",
    "\n",
    "plt.title(\"Sentiments from Tweets on Climate Change\")\n",
    "plt.show()"
   ]
  },
  {
   "cell_type": "code",
   "execution_count": null,
   "metadata": {},
   "outputs": [],
   "source": []
  }
 ],
 "metadata": {
  "kernelspec": {
   "display_name": "Python 3",
   "language": "python",
   "name": "python3"
  },
  "language_info": {
   "codemirror_mode": {
    "name": "ipython",
    "version": 3
   },
   "file_extension": ".py",
   "mimetype": "text/x-python",
   "name": "python",
   "nbconvert_exporter": "python",
   "pygments_lexer": "ipython3",
   "version": "3.7.0"
  }
 },
 "nbformat": 4,
 "nbformat_minor": 2
}
